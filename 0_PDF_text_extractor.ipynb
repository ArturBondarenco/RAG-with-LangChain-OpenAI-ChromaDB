{
  "nbformat": 4,
  "nbformat_minor": 0,
  "metadata": {
    "colab": {
      "provenance": []
    },
    "kernelspec": {
      "name": "python3",
      "display_name": "Python 3"
    },
    "language_info": {
      "name": "python"
    }
  },
  "cells": [
    {
      "cell_type": "markdown",
      "source": [
        "#1. Install libraries with pip"
      ],
      "metadata": {
        "id": "Rw4CPI1fNiSo"
      }
    },
    {
      "cell_type": "code",
      "source": [
        "%pip install PyPDF2\n",
        "%pip install pdfplumber\n",
        "%pip install pyMuPDF"
      ],
      "metadata": {
        "colab": {
          "base_uri": "https://localhost:8080/"
        },
        "id": "xFHoTCF9JSEd",
        "outputId": "8d276223-45de-4316-8d0f-e84546e7480c"
      },
      "execution_count": 8,
      "outputs": [
        {
          "output_type": "stream",
          "name": "stdout",
          "text": [
            "Requirement already satisfied: PyPDF2 in /usr/local/lib/python3.10/dist-packages (3.0.1)\n",
            "Requirement already satisfied: pdfplumber in /usr/local/lib/python3.10/dist-packages (0.11.4)\n",
            "Requirement already satisfied: pdfminer.six==20231228 in /usr/local/lib/python3.10/dist-packages (from pdfplumber) (20231228)\n",
            "Requirement already satisfied: Pillow>=9.1 in /usr/local/lib/python3.10/dist-packages (from pdfplumber) (10.4.0)\n",
            "Requirement already satisfied: pypdfium2>=4.18.0 in /usr/local/lib/python3.10/dist-packages (from pdfplumber) (4.30.0)\n",
            "Requirement already satisfied: charset-normalizer>=2.0.0 in /usr/local/lib/python3.10/dist-packages (from pdfminer.six==20231228->pdfplumber) (3.3.2)\n",
            "Requirement already satisfied: cryptography>=36.0.0 in /usr/local/lib/python3.10/dist-packages (from pdfminer.six==20231228->pdfplumber) (43.0.1)\n",
            "Requirement already satisfied: cffi>=1.12 in /usr/local/lib/python3.10/dist-packages (from cryptography>=36.0.0->pdfminer.six==20231228->pdfplumber) (1.17.1)\n",
            "Requirement already satisfied: pycparser in /usr/local/lib/python3.10/dist-packages (from cffi>=1.12->cryptography>=36.0.0->pdfminer.six==20231228->pdfplumber) (2.22)\n",
            "Collecting pyMuPDF\n",
            "  Downloading PyMuPDF-1.24.10-cp310-none-manylinux2014_x86_64.whl.metadata (3.4 kB)\n",
            "Collecting PyMuPDFb==1.24.10 (from pyMuPDF)\n",
            "  Downloading PyMuPDFb-1.24.10-py3-none-manylinux2014_x86_64.manylinux_2_17_x86_64.whl.metadata (1.4 kB)\n",
            "Downloading PyMuPDF-1.24.10-cp310-none-manylinux2014_x86_64.whl (3.5 MB)\n",
            "\u001b[2K   \u001b[90m━━━━━━━━━━━━━━━━━━━━━━━━━━━━━━━━━━━━━━━━\u001b[0m \u001b[32m3.5/3.5 MB\u001b[0m \u001b[31m35.8 MB/s\u001b[0m eta \u001b[36m0:00:00\u001b[0m\n",
            "\u001b[?25hDownloading PyMuPDFb-1.24.10-py3-none-manylinux2014_x86_64.manylinux_2_17_x86_64.whl (15.9 MB)\n",
            "\u001b[2K   \u001b[90m━━━━━━━━━━━━━━━━━━━━━━━━━━━━━━━━━━━━━━━━\u001b[0m \u001b[32m15.9/15.9 MB\u001b[0m \u001b[31m51.8 MB/s\u001b[0m eta \u001b[36m0:00:00\u001b[0m\n",
            "\u001b[?25hInstalling collected packages: PyMuPDFb, pyMuPDF\n",
            "Successfully installed PyMuPDFb-1.24.10 pyMuPDF-1.24.10\n"
          ]
        }
      ]
    },
    {
      "cell_type": "markdown",
      "source": [
        "# 2. Importing libraries"
      ],
      "metadata": {
        "id": "fxWQAEUfJBKY"
      }
    },
    {
      "cell_type": "code",
      "execution_count": 10,
      "metadata": {
        "id": "wVYxb0EAIQKA"
      },
      "outputs": [],
      "source": [
        "from pathlib import Path\n",
        "import re\n",
        "import os\n",
        "\n",
        "from PyPDF2 import PdfReader\n",
        "import pdfplumber\n",
        "import fitz #PyMuPDF\n",
        "from pdfminer.high_level import extract_text"
      ]
    },
    {
      "cell_type": "markdown",
      "source": [
        "# 3. Defining PDF extraction functions:"
      ],
      "metadata": {
        "id": "YXQMH0slNwoO"
      }
    },
    {
      "cell_type": "code",
      "source": [
        "# Extract with PyPDF2\n",
        "def extract_text_with_PyPDF2(pdf_path):\n",
        "  reader = PdfReader(pdf_path)\n",
        "  text = ''\n",
        "  for page in reader.pages:\n",
        "    text += page.extract_text()\n",
        "  return text\n",
        "\n",
        "def extract_text_with_pdfplumber(pdf_path):\n",
        "  text = ''\n",
        "  with pdfplumber.open(pdf_path) as pdf:\n",
        "    for page in pdf.pages:\n",
        "      page_text = page.extract_text()\n",
        "      if page_text:\n",
        "        text += page_text + \"\\n\"\n",
        "  return text\n",
        "\n",
        "def extract_text_with_fitz(pdf_path):\n",
        "  doc = fitz.open(pdf_path)\n",
        "  text = ''\n",
        "  for page in doc:\n",
        "    text += page.get_text()\n",
        "  return text"
      ],
      "metadata": {
        "id": "qj_XfimHJLYx"
      },
      "execution_count": 12,
      "outputs": []
    },
    {
      "cell_type": "markdown",
      "source": [
        "# 4. Extracting the text"
      ],
      "metadata": {
        "id": "sVt410nrS90r"
      }
    },
    {
      "cell_type": "code",
      "source": [
        "path = Path(\"/content/\")\n",
        "# text = extract_text(path) #PDF_miner\n",
        "# text = extract_text_with_PyPDF2(path)\n",
        "# text = extract_text_with_pdfplumber(path)\n",
        "text = extract_text_with_fitz(path)\n",
        "print(text)\n",
        "# Getting rid of extra whitespaces\n",
        "text_new = re.sub(r'\\s+', r' ', text).strip()\n",
        "print(\"String after deleting extra whitespaces:\", repr(text_new))"
      ],
      "metadata": {
        "id": "H4wuC4TZPXT_"
      },
      "execution_count": null,
      "outputs": []
    }
  ]
}